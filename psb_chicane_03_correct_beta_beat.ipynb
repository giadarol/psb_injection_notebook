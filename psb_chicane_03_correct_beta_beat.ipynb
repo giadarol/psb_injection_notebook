{
 "cells": [
  {
   "cell_type": "markdown",
   "id": "c6ccdbf2",
   "metadata": {},
   "source": [
    "# PSB injection bump in Xsuite - correct beta beating"
   ]
  },
  {
   "cell_type": "code",
   "execution_count": null,
   "id": "b81d0377",
   "metadata": {},
   "outputs": [],
   "source": [
    "%matplotlib notebook"
   ]
  },
  {
   "cell_type": "code",
   "execution_count": 1,
   "id": "40616266",
   "metadata": {},
   "outputs": [],
   "source": [
    "# Import modules\n",
    "import matplotlib.pyplot as plt\n",
    "import numpy as np\n",
    "import pandas as pd\n",
    "\n",
    "import xtrack as xt\n",
    "import xpart as xp\n",
    "import xdeps as xd\n",
    "\n",
    "from cpymad.madx import Madx"
   ]
  },
  {
   "cell_type": "markdown",
   "id": "51a56f9f",
   "metadata": {},
   "source": [
    "###  Load line from previous notebook"
   ]
  },
  {
   "cell_type": "code",
   "execution_count": 2,
   "id": "0a303702",
   "metadata": {},
   "outputs": [
    {
     "name": "stderr",
     "output_type": "stream",
     "text": [
      "Loading line from dict: 100%|█| 1224/1224 [00:00<00:00, 4191"
     ]
    },
    {
     "name": "stdout",
     "output_type": "stream",
     "text": [
      "Done loading line from dict.           \n",
      "Found suitable prebuilt kernel `default_only_xtrack`.\n"
     ]
    },
    {
     "name": "stderr",
     "output_type": "stream",
     "text": [
      "\n"
     ]
    },
    {
     "data": {
      "text/plain": [
       "<xtrack.tracker.Tracker at 0x15fb87550>"
      ]
     },
     "execution_count": 2,
     "metadata": {},
     "output_type": "execute_result"
    }
   ],
   "source": [
    "# Reload\n",
    "line = xt.Line.from_json('psb_02_with_chicane_time_functions.json')\n",
    "line.build_tracker()"
   ]
  },
  {
   "cell_type": "markdown",
   "id": "69244d5f",
   "metadata": {},
   "source": [
    "### Insert a marker at location where we want to minimize beta beating"
   ]
  },
  {
   "cell_type": "code",
   "execution_count": 3,
   "id": "42057503",
   "metadata": {},
   "outputs": [
    {
     "name": "stdout",
     "output_type": "stream",
     "text": [
      "Found suitable prebuilt kernel `default_only_xtrack`.\n"
     ]
    },
    {
     "data": {
      "text/plain": [
       "<xtrack.tracker.Tracker at 0x15fe7fbe0>"
      ]
     },
     "execution_count": 3,
     "metadata": {},
     "output_type": "execute_result"
    }
   ],
   "source": [
    "line.discard_tracker() # We need to discard the tracker to edit the line\n",
    "line.insert_element(element=xt.Marker(), name='mker_match', at_s=79.874)\n",
    "line.build_tracker()"
   ]
  },
  {
   "cell_type": "markdown",
   "id": "2048d900",
   "metadata": {},
   "source": [
    "### Store twiss with chicane off"
   ]
  },
  {
   "cell_type": "code",
   "execution_count": 4,
   "id": "8c54b70e",
   "metadata": {},
   "outputs": [
    {
     "name": "stdout",
     "output_type": "stream",
     "text": [
      "Found suitable prebuilt kernel `only_xtrack_frozen_energy`.\n"
     ]
    }
   ],
   "source": [
    "line.vars['on_chicane_k0'] = 0\n",
    "line.vars['on_chicane_k2'] = 0\n",
    "\n",
    "tw0 = line.twiss()\n",
    "\n",
    "line.vars['on_chicane_k0'] = 1\n",
    "line.vars['on_chicane_k2'] = 1"
   ]
  },
  {
   "cell_type": "markdown",
   "id": "be4129ad",
   "metadata": {},
   "source": [
    "### Compute correction using `match`"
   ]
  },
  {
   "cell_type": "code",
   "execution_count": 5,
   "id": "41c8e567",
   "metadata": {},
   "outputs": [
    {
     "name": "stdout",
     "output_type": "stream",
     "text": [
      "Correct tune and beta beat at t = 5.50 ms\r"
     ]
    }
   ],
   "source": [
    "t_correct = np.linspace(0, 5.5e-3, 30) # Times at which corrections are computed\n",
    "\n",
    "kbrqf_corr_list = []\n",
    "kbrqd_corr_list = []\n",
    "kbrqd3corr_list = []\n",
    "kbrqd14corr_list = []\n",
    "\n",
    "for ii, tt in enumerate(t_correct):\n",
    "    print(f'Correct tune and beta beat at t = {tt * 1e3:.2f} ms', end='\\r', flush=True)\n",
    "    \n",
    "    line.vars['t_turn_s'] = tt # Set test time\n",
    "\n",
    "    xd.general._print.suppress = True # to avoid too much output\n",
    "    line.match(\n",
    "        targets=[\n",
    "            xt.Target('qx', value=tw0.qx, tol=1e-5, scale=1),\n",
    "            xt.Target('qy', value=tw0.qy, tol=1e-5, scale=1),\n",
    "            xt.Target('bety', at='mker_match',\n",
    "                      value=tw0['bety', 'mker_match'], tol=1e-4, scale=100),\n",
    "            xt.Target('alfy', at='mker_match',\n",
    "                       value=tw0['alfy', 'mker_match'], tol=1e-4, scale=100)\n",
    "        ],\n",
    "        vary=[\n",
    "            xt.Vary('kbrqfcorr', step=1e-4),\n",
    "            xt.Vary('kbrqdcorr', step=1e-4),\n",
    "            xt.Vary('kbrqd3corr', step=1e-4),\n",
    "            xt.Vary('kbrqd14corr', step=1e-4),\n",
    "        ],\n",
    "    )\n",
    "    xd.general._print.suppress = False\n",
    "\n",
    "    # Store found values\n",
    "    kbrqf_corr_list.append(line.vars['kbrqfcorr']._value)\n",
    "    kbrqd_corr_list.append(line.vars['kbrqdcorr']._value)\n",
    "    kbrqd3corr_list.append(line.vars['kbrqd3corr']._value)\n",
    "    kbrqd14corr_list.append(line.vars['kbrqd14corr']._value)"
   ]
  },
  {
   "cell_type": "code",
   "execution_count": 6,
   "id": "501b4523",
   "metadata": {},
   "outputs": [
    {
     "data": {
      "text/plain": [
       "[-0.0005675798275059953,\n",
       " -0.00046279169256188484,\n",
       " -0.0003501383169741377,\n",
       " -0.00023334648245535656,\n",
       " -0.00011657434035741068,\n",
       " -7.210004810738346e-05,\n",
       " -4.868826553950106e-05,\n",
       " -2.7216190749085237e-05,\n",
       " -7.716745107594479e-06,\n",
       " 9.773168130907618e-06,\n",
       " 2.523270128235507e-05,\n",
       " 3.862608448808649e-05,\n",
       " 4.992362022616292e-05,\n",
       " 5.909596276737053e-05,\n",
       " 6.611711412558176e-05,\n",
       " 7.095966243051032e-05,\n",
       " 7.359810387842874e-05,\n",
       " 7.400814442421468e-05,\n",
       " 7.216593349186489e-05,\n",
       " 6.80491959840669e-05,\n",
       " 6.163880767448943e-05,\n",
       " 5.290964774038726e-05,\n",
       " 4.184716407792868e-05,\n",
       " 2.3656918312842e-05,\n",
       " 1.122130902017229e-05,\n",
       " 4.3920772747143564e-06,\n",
       " 9.08944999058459e-07,\n",
       " 6.590977839861813e-10,\n",
       " 6.590977839861813e-10,\n",
       " 6.590977839861813e-10]"
      ]
     },
     "execution_count": 6,
     "metadata": {},
     "output_type": "execute_result"
    }
   ],
   "source": [
    "# Ispect\n",
    "kbrqf_corr_list"
   ]
  },
  {
   "cell_type": "markdown",
   "id": "e50a4cfb",
   "metadata": {},
   "source": [
    "### Build functions with the computed corrections"
   ]
  },
  {
   "cell_type": "code",
   "execution_count": 7,
   "id": "0def5caa",
   "metadata": {},
   "outputs": [],
   "source": [
    "line.functions['fun_kqf_corr'] = xd.FunctionPieceWiseLinear(x=t_correct, y=kbrqf_corr_list)\n",
    "line.functions['fun_kqd_corr'] = xd.FunctionPieceWiseLinear(x=t_correct, y=kbrqd_corr_list)\n",
    "line.functions['fun_qd3_corr'] = xd.FunctionPieceWiseLinear(x=t_correct, y=kbrqd3corr_list)\n",
    "line.functions['fun_qd14_corr'] = xd.FunctionPieceWiseLinear(x=t_correct, y=kbrqd14corr_list)"
   ]
  },
  {
   "cell_type": "markdown",
   "id": "2fbe961c",
   "metadata": {},
   "source": [
    "### Use functions to control quadrupole strengths"
   ]
  },
  {
   "cell_type": "code",
   "execution_count": 8,
   "id": "ba0c0464",
   "metadata": {},
   "outputs": [],
   "source": [
    "line.vars['on_chicane_tune_corr'] = 1\n",
    "line.vars['kbrqfcorr'] = (line.vars['on_chicane_tune_corr']\n",
    "                            * line.functions.fun_kqf_corr(line.vars['t_turn_s']))\n",
    "line.vars['kbrqdcorr'] = (line.vars['on_chicane_tune_corr']\n",
    "                            * line.functions.fun_kqd_corr(line.vars['t_turn_s']))\n",
    "\n",
    "line.vars['on_chicane_beta_corr'] = 1\n",
    "line.vars['kbrqd3corr'] = (line.vars['on_chicane_beta_corr']\n",
    "                         * line.functions.fun_qd3_corr(line.vars['t_turn_s']))\n",
    "line.vars['kbrqd14corr'] = (line.vars['on_chicane_beta_corr']\n",
    "                        * line.functions.fun_qd14_corr(line.vars['t_turn_s']))"
   ]
  },
  {
   "cell_type": "markdown",
   "id": "3868b0f0",
   "metadata": {},
   "source": [
    "### Check corrections"
   ]
  },
  {
   "cell_type": "code",
   "execution_count": 9,
   "id": "4acac960",
   "metadata": {},
   "outputs": [
    {
     "name": "stdout",
     "output_type": "stream",
     "text": [
      "Twiss at t = 6.00 ms   \r"
     ]
    }
   ],
   "source": [
    "t_test = np.linspace(0, 6e-3, 100)\n",
    "\n",
    "qy = []\n",
    "qy_uncorrected = []\n",
    "bety_at_mker = []\n",
    "bety_at_mker_uncorrected = []\n",
    "\n",
    "for ii, tt in enumerate(t_test):\n",
    "    print(f'Twiss at t = {tt*1e3:.2f} ms   ', end='\\r', flush=True)\n",
    "    \n",
    "    line.vars['t_turn_s'] = tt # Set test times\n",
    "\n",
    "    line.vars['on_chicane_beta_corr'] = 1\n",
    "    line.vars['on_chicane_tune_corr'] = 1\n",
    "    \n",
    "    tw = line.twiss()\n",
    "    qy.append(tw.qy)\n",
    "    bety_at_mker.append(tw['bety', 'mker_match'])\n",
    "\n",
    "    line.vars['on_chicane_beta_corr'] = 0\n",
    "    line.vars['on_chicane_tune_corr'] = 0\n",
    "    \n",
    "    tw_uncorr = line.twiss()\n",
    "    \n",
    "    bety_at_mker_uncorrected.append(tw_uncorr['bety', 'mker_match'])\n",
    "    qy_uncorrected.append(tw_uncorr.qy)"
   ]
  },
  {
   "cell_type": "code",
   "execution_count": 10,
   "id": "776a6657",
   "metadata": {},
   "outputs": [
    {
     "data": {
      "text/plain": [
       "Text(0.5, 0, 'time [ms]')"
      ]
     },
     "execution_count": 10,
     "metadata": {},
     "output_type": "execute_result"
    },
    {
     "data": {
      "image/png": "[encoded data removed]",
      "text/plain": [
       "<Figure size 576x432 with 2 Axes>"
      ]
     },
     "metadata": {},
     "output_type": "display_data"
    }
   ],
   "source": [
    "plt.figure(2, figsize=(6.4*0.9, 4.8*0.9))\n",
    "sp1 = plt.subplot(2,1,1)\n",
    "plt.plot(t_test*1e3, qy, label='corrected')\n",
    "plt.plot(t_test*1e3, qy_uncorrected, label='uncorrected')\n",
    "plt.ylabel('$Q_y$')\n",
    "plt.legend()\n",
    "sp2 = plt.subplot(2,1,2, sharex=sp1)\n",
    "plt.plot(t_test*1e3, bety_at_mker , label='corrected')\n",
    "plt.plot(t_test*1e3, bety_at_mker_uncorrected, label='uncorrected')\n",
    "plt.ylabel(r'$\\beta_y$ at marker')\n",
    "plt.legend()\n",
    "plt.xlabel('time [ms]')\n"
   ]
  },
  {
   "cell_type": "code",
   "execution_count": 11,
   "id": "a0c9c9df",
   "metadata": {
    "scrolled": false
   },
   "outputs": [
    {
     "data": {
      "text/plain": [
       "Text(0.5, 0, 'time [ms]')"
      ]
     },
     "execution_count": 11,
     "metadata": {},
     "output_type": "execute_result"
    },
    {
     "data": {
      "image/png": "[encoded data removed]",
      "text/plain": [
       "<Figure size 640x480 with 2 Axes>"
      ]
     },
     "metadata": {},
     "output_type": "display_data"
    }
   ],
   "source": [
    "plt.figure()\n",
    "sp1 = plt.subplot(2,1,1)\n",
    "plt.plot(t_correct*1e3, kbrqf_corr_list, label='kbrqfcorr')\n",
    "plt.plot(t_correct*1e3, kbrqd_corr_list, label='kbrqdcorr')\n",
    "plt.legend()\n",
    "plt.subplot(2,1,2, sharex=sp1)\n",
    "plt.plot(t_correct*1e3, kbrqd3corr_list, label='kbrqd3corr')\n",
    "plt.plot(t_correct*1e3, kbrqd14corr_list, label='kbrqd14corr')\n",
    "plt.legend()\n",
    "plt.xlabel('time [ms]')"
   ]
  },
  {
   "cell_type": "markdown",
   "id": "ed622ea0",
   "metadata": {},
   "source": [
    "### Save"
   ]
  },
  {
   "cell_type": "code",
   "execution_count": 12,
   "id": "7c66f749",
   "metadata": {},
   "outputs": [],
   "source": [
    "line.to_json('psb_03_with_chicane_corrected.json')"
   ]
  },
  {
   "cell_type": "code",
   "execution_count": null,
   "id": "9f6fecee",
   "metadata": {},
   "outputs": [],
   "source": []
  }
 ],
 "metadata": {
  "kernelspec": {
   "display_name": "Python 3 (ipykernel)",
   "language": "python",
   "name": "python3"
  },
  "language_info": {
   "codemirror_mode": {
    "name": "ipython",
    "version": 3
   },
   "file_extension": ".py",
   "mimetype": "text/x-python",
   "name": "python",
   "nbconvert_exporter": "python",
   "pygments_lexer": "ipython3",
   "version": "3.10.9"
  }
 },
 "nbformat": 4,
 "nbformat_minor": 5
}
