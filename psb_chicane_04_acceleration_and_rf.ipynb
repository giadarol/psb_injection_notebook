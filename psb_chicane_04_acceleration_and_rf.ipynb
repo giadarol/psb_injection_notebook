{
 "cells": [
  {
   "cell_type": "markdown",
   "id": "c6ccdbf2",
   "metadata": {},
   "source": [
    "# PSB injection bump in Xsuite - acceleration and RF"
   ]
  },
  {
   "cell_type": "code",
   "execution_count": null,
   "id": "b81d0377",
   "metadata": {},
   "outputs": [],
   "source": [
    "%matplotlib notebook"
   ]
  },
  {
   "cell_type": "code",
   "execution_count": 1,
   "id": "40616266",
   "metadata": {},
   "outputs": [],
   "source": [
    "# Import modules\n",
    "import matplotlib.pyplot as plt\n",
    "import numpy as np\n",
    "import pandas as pd\n",
    "\n",
    "import xtrack as xt\n",
    "import xpart as xp\n",
    "import xdeps as xd\n",
    "\n",
    "from cpymad.madx import Madx"
   ]
  },
  {
   "cell_type": "markdown",
   "id": "51a56f9f",
   "metadata": {},
   "source": [
    "###  Load line from previous notebook"
   ]
  },
  {
   "cell_type": "code",
   "execution_count": 2,
   "id": "0a303702",
   "metadata": {},
   "outputs": [
    {
     "name": "stderr",
     "output_type": "stream",
     "text": [
      "Loading line from dict: 100%|█| 1227/1227 [00:00<00:00, 3309"
     ]
    },
    {
     "name": "stdout",
     "output_type": "stream",
     "text": [
      "Done loading line from dict.           \n",
      "Found suitable prebuilt kernel `default_only_xtrack`.\n"
     ]
    },
    {
     "name": "stderr",
     "output_type": "stream",
     "text": [
      "\n"
     ]
    },
    {
     "data": {
      "text/plain": [
       "<xtrack.tracker.Tracker at 0x137b8f520>"
      ]
     },
     "execution_count": 2,
     "metadata": {},
     "output_type": "execute_result"
    }
   ],
   "source": [
    "# Reload\n",
    "line = xt.Line.from_json('psb_03_with_chicane_corrected.json')\n",
    "line.build_tracker()"
   ]
  },
  {
   "cell_type": "markdown",
   "id": "dce831cf",
   "metadata": {},
   "source": [
    "### Load momentum and RF functions"
   ]
  },
  {
   "cell_type": "code",
   "execution_count": 5,
   "id": "acc34a15",
   "metadata": {},
   "outputs": [],
   "source": [
    "fname = 'Ramp_and_RF_functions.dat'\n",
    "df = pd.read_csv(fname, sep='\\t', skiprows=2,\n",
    "    names=['t_s', 'E_kin_GeV', 'V1_MV', 'phi1_rad', 'V2_MV', 'phi2_rad'])"
   ]
  },
  {
   "cell_type": "code",
   "execution_count": 6,
   "id": "1760877d",
   "metadata": {},
   "outputs": [
    {
     "data": {
      "text/html": [
       "<div>\n",
       "<style scoped>\n",
       "    .dataframe tbody tr th:only-of-type {\n",
       "        vertical-align: middle;\n",
       "    }\n",
       "\n",
       "    .dataframe tbody tr th {\n",
       "        vertical-align: top;\n",
       "    }\n",
       "\n",
       "    .dataframe thead th {\n",
       "        text-align: right;\n",
       "    }\n",
       "</style>\n",
       "<table border=\"1\" class=\"dataframe\">\n",
       "  <thead>\n",
       "    <tr style=\"text-align: right;\">\n",
       "      <th></th>\n",
       "      <th>t_s</th>\n",
       "      <th>E_kin_GeV</th>\n",
       "      <th>V1_MV</th>\n",
       "      <th>phi1_rad</th>\n",
       "      <th>V2_MV</th>\n",
       "      <th>phi2_rad</th>\n",
       "    </tr>\n",
       "  </thead>\n",
       "  <tbody>\n",
       "    <tr>\n",
       "      <th>0</th>\n",
       "      <td>0.0000</td>\n",
       "      <td>0.16</td>\n",
       "      <td>0.002934</td>\n",
       "      <td>3.141593</td>\n",
       "      <td>-0.002201</td>\n",
       "      <td>3.134638</td>\n",
       "    </tr>\n",
       "    <tr>\n",
       "      <th>1</th>\n",
       "      <td>0.0001</td>\n",
       "      <td>0.16</td>\n",
       "      <td>0.002930</td>\n",
       "      <td>3.141593</td>\n",
       "      <td>-0.002198</td>\n",
       "      <td>3.135402</td>\n",
       "    </tr>\n",
       "    <tr>\n",
       "      <th>2</th>\n",
       "      <td>0.0002</td>\n",
       "      <td>0.16</td>\n",
       "      <td>0.002926</td>\n",
       "      <td>3.141593</td>\n",
       "      <td>-0.002195</td>\n",
       "      <td>3.136165</td>\n",
       "    </tr>\n",
       "    <tr>\n",
       "      <th>3</th>\n",
       "      <td>0.0003</td>\n",
       "      <td>0.16</td>\n",
       "      <td>0.002922</td>\n",
       "      <td>3.141593</td>\n",
       "      <td>-0.002192</td>\n",
       "      <td>3.136928</td>\n",
       "    </tr>\n",
       "    <tr>\n",
       "      <th>4</th>\n",
       "      <td>0.0004</td>\n",
       "      <td>0.16</td>\n",
       "      <td>0.002918</td>\n",
       "      <td>3.141593</td>\n",
       "      <td>-0.002189</td>\n",
       "      <td>3.137691</td>\n",
       "    </tr>\n",
       "  </tbody>\n",
       "</table>\n",
       "</div>"
      ],
      "text/plain": [
       "      t_s  E_kin_GeV     V1_MV  phi1_rad     V2_MV  phi2_rad\n",
       "0  0.0000       0.16  0.002934  3.141593 -0.002201  3.134638\n",
       "1  0.0001       0.16  0.002930  3.141593 -0.002198  3.135402\n",
       "2  0.0002       0.16  0.002926  3.141593 -0.002195  3.136165\n",
       "3  0.0003       0.16  0.002922  3.141593 -0.002192  3.136928\n",
       "4  0.0004       0.16  0.002918  3.141593 -0.002189  3.137691"
      ]
     },
     "execution_count": 6,
     "metadata": {},
     "output_type": "execute_result"
    }
   ],
   "source": [
    "df.head()"
   ]
  },
  {
   "cell_type": "markdown",
   "id": "a9b4cbb4",
   "metadata": {},
   "source": [
    "### Set line energy program"
   ]
  },
  {
   "cell_type": "code",
   "execution_count": 8,
   "id": "7926378a",
   "metadata": {},
   "outputs": [],
   "source": [
    "ep = xt.EnergyProgram(t_s=df['t_s'].values, kinetic_energy0=df['E_kin_GeV'].values*1e9)"
   ]
  },
  {
   "cell_type": "code",
   "execution_count": 9,
   "id": "9390d86f",
   "metadata": {},
   "outputs": [],
   "source": [
    "line.energy_program = ep"
   ]
  },
  {
   "cell_type": "markdown",
   "id": "c3e012d8",
   "metadata": {},
   "source": [
    "### RF frequency programs"
   ]
  },
  {
   "cell_type": "code",
   "execution_count": 10,
   "id": "4fd8c215",
   "metadata": {},
   "outputs": [
    {
     "data": {
      "text/plain": [
       "LinkedArrayCpu([ 991965.96799408,  991965.96799408,  991965.96799408,\n",
       "                 991965.96799408,  991965.96799408,  991965.96799408,\n",
       "                 991965.96799408,  991968.8474556 ,  991976.6316743 ,\n",
       "                 991989.29600542,  992006.79125417,  992029.65365908,\n",
       "                 992057.41888386,  992089.84210106,  992126.89795271,\n",
       "                 992168.9512194 ,  992215.85422356,  992267.21532659,\n",
       "                 992323.00868264,  992383.45213816,  992448.66578431,\n",
       "                 992518.16016164,  992591.86026016,  992669.8615624 ,\n",
       "                 992752.57606971,  992839.34365256,  992930.13771033,\n",
       "                 993024.93155797,  993124.23395738,  993227.45796069,\n",
       "                 993334.52798371,  993445.34408851,  993560.36569049,\n",
       "                 993679.20067755,  993801.67599721,  993927.7158908 ,\n",
       "                 994057.60900534,  994191.23069788,  994328.26213523,\n",
       "                 994468.70031934,  994612.61497501,  994760.19695098,\n",
       "                 994910.98202709,  995064.94285758,  995222.10053274,\n",
       "                 995382.76675213,  995546.4535525 ,  995713.10933397,\n",
       "                 995882.70670989,  996055.6053262 ,  996231.34205587,\n",
       "                 996409.88950903,  996591.12363132,  996775.35527472,\n",
       "                 996962.33943487,  997151.87971166,  997343.94884569,\n",
       "                 997538.68837828,  997736.07083922,  997935.80372318,\n",
       "                 998137.85990024,  998342.28446837,  998549.21865785,\n",
       "                 998758.29832266,  998969.52054238,  999182.81027967,\n",
       "                 999398.45288505,  999616.06093349,  999835.58363777,\n",
       "                1000056.97027885, 1000280.45789149, 1000505.75586266,\n",
       "                1000732.76571557, 1000961.43701931, 1001191.91083656,\n",
       "                1001424.06486297, 1001657.72920814, 1001892.87764928,\n",
       "                1002129.55563649, 1002367.73690957, 1002607.22826101,\n",
       "                1002848.0037611 , 1003090.06135035, 1003333.44659587,\n",
       "                1003577.94309827, 1003823.52524124, 1004070.14367205,\n",
       "                1004319.05635064, 1004567.83653308, 1004816.48434465,\n",
       "                1005064.99991044, 1005313.38335535, 1005561.6348041 ,\n",
       "                1005809.73068936, 1006057.71853176, 1006305.574751  ,\n",
       "                1006553.29947104, 1006800.89281568, 1007048.35490849,\n",
       "                1007295.6858729 , 1007542.88583211, 1007789.95490918,\n",
       "                1008036.86964787, 1008283.67734149, 1008530.35452096,\n",
       "                1008776.90130858, 1009023.31782648, 1009269.60419659,\n",
       "                1009515.76054067, 1009761.7869803 , 1010007.68363687,\n",
       "                1010253.45063158, 1010499.06463059, 1010744.57267689,\n",
       "                1010989.95142389, 1011235.20099208, 1011480.32150178,\n",
       "                1011725.31307313, 1011970.17582608, 1012214.90988042,\n",
       "                1012459.51535575, 1012703.99237149, 1012948.31771504,\n",
       "                1013192.53818143, 1013436.63054545, 1013680.59492581,\n",
       "                1013924.43144107, 1014171.56099983, 1014418.72213041,\n",
       "                1014665.72872949, 1014912.62742428, 1015159.39507948,\n",
       "                1015406.00860895, 1015652.51456537, 1015898.86666561,\n",
       "                1016145.11141275, 1016391.20257248, 1016637.18659839,\n",
       "                1016883.0173049 , 1017128.7410962 , 1017374.3349461 ,\n",
       "                1017619.77587715, 1017865.11021964, 1018110.29190938,\n",
       "                1018355.36722746, 1018600.29015812, 1018845.10693338,\n",
       "                1019089.77158579, 1019334.33029838, 1019578.7601532 ,\n",
       "                1019823.0382806 , 1020067.21079034, 1020311.23183535,\n",
       "                1020555.14747664, 1020798.91191515, 1021042.57116322,\n",
       "                1021286.0794697 , 1021529.48279837, 1021772.75833859,\n",
       "                1022015.88332764, 1022258.90365661, 1022501.77369378,\n",
       "                1022744.53928187, 1022987.15483678, 1023229.66615299,\n",
       "                1023472.02769391, 1023714.28520586, 1023959.78814694,\n",
       "                1024205.43419317, 1024450.97266404, 1024696.35814758,\n",
       "                1024941.63627423, 1025186.76167995, 1025431.77994656,\n",
       "                1025676.64575789, 1025921.40464724, 1026166.01134617,\n",
       "                1026410.51133959, 1026654.85940672, 1026899.10098414,\n",
       "                1027143.19089864, 1027387.17453857, 1027631.00677821,\n",
       "                1027874.73295778, 1028118.33057967, 1028361.77719382,\n",
       "                1028605.11806841, 1028848.30819601, 1029091.39279691,\n",
       "                1029334.32691087, 1029577.15571032, 1029819.83428214,\n",
       "                1030062.40775102, 1030304.83125083, 1030547.14985863,\n",
       "                1030789.3187552 , 1031031.38297005, 1031273.29773079,\n",
       "                1031515.10801945, 1031756.76911041, 1031998.3259383 ,\n",
       "                1032239.73382416, 1032481.03765534, 1032722.21515592,\n",
       "                1032963.24409665, 1033204.16929411, 1033444.94618562,\n",
       "                1033688.92136915, 1033933.21327946, 1034177.37560852,\n",
       "                1034421.4084763 , 1034665.31200255, 1034909.0863069 ,\n",
       "                1035152.73150876, 1035396.24772739, 1035639.63508188,\n",
       "                1035882.89369113, 1036126.02367386, 1036369.02514865,\n",
       "                1036611.89823387, 1036854.64304775, 1037097.28185318,\n",
       "                1037339.77046663, 1037582.13116236, 1037824.3640579 ,\n",
       "                1038066.46927059, 1038308.44691764, 1038550.29711606,\n",
       "                1038792.0199827 , 1039033.61563423, 1039275.08418717,\n",
       "                1039516.42575786, 1039757.64046247, 1039998.72841701,\n",
       "                1040239.68973731, 1040480.52453906, 1040721.23293774,\n",
       "                1040961.81504871, 1041202.27098713, 1041442.60086801,\n",
       "                1041682.82673087, 1041922.90482954, 1042162.85721471,\n",
       "                1042402.68400072, 1042642.38530176, 1042881.96123184,\n",
       "                1043121.41190482, 1043363.9704115 , 1043607.01180614,\n",
       "                1043849.924241  , 1044092.72964442, 1044335.38450419,\n",
       "                1044577.93254641, 1044820.33030475, 1045062.59969532,\n",
       "                1045304.76258792, 1045546.77558493, 1045788.66056733,\n",
       "                1046030.43936991, 1046272.06866356, 1046513.5919887 ,\n",
       "                1046754.96606179, 1046996.21270547, 1047237.35369641,\n",
       "                1047478.34581926, 1047719.2108618 , 1047959.97056595,\n",
       "                1048200.58178438, 1048441.08787322, 1048681.44573037,\n",
       "                1048921.67708569, 1049161.80362343, 1049401.7823092 ,\n",
       "                1049641.63483825, 1049881.38286033, 1050120.98340859,\n",
       "                1050360.47965619, 1050599.82868118, 1050839.05212135,\n",
       "                1051078.17156918, 1051317.14416995, 1051555.99152707,\n",
       "                1051794.73519879, 1052033.33239743, 1052271.82611454,\n",
       "                1052510.17360705, 1052748.3964213 , 1052989.66020195,\n",
       "                1053231.5871593 , 1053473.36424498, 1053715.03432002,\n",
       "                1053956.57612473, 1054197.96844464, 1054439.25407222,\n",
       "                1054680.41178132, 1054921.44168891, 1055162.32262499,\n",
       "                1055403.09729097, 1055643.74450526, 1055884.26438413,\n",
       "                1056124.63580195, 1056364.90136938, 1056605.03994923,\n",
       "                1056845.03044902, 1057084.91541157, 1057324.67373286,\n",
       "                1057564.30552803, 1057803.78974866, 1058043.16884742,\n",
       "                1058282.42176441, 1058521.52748418, 1058760.52839199,\n",
       "                1058999.40346093, 1059238.15280497, 1059476.75545245,\n",
       "                1059715.25369907, 1059953.62656173, 1060191.87415377,\n",
       "                1060429.97554719, 1060667.97294839, 1060905.84541798,\n",
       "                1061143.57206061, 1061381.19501593, 1061618.69337723,\n",
       "                1061856.06725673, 1062093.29580242, 1062330.42106528,\n",
       "                1062570.47972037, 1062811.37393972, 1063052.13999772,\n",
       "                1063292.79891995, 1063533.30899502, 1063773.6912593 ,\n",
       "                1064013.96670458, 1064254.09368561, 1064494.09320493,\n",
       "                1064733.9862206 , 1064973.73115334, 1065213.34897195,\n",
       "                1065452.86060087, 1065692.22452661, 1065931.46168431,\n",
       "                1066170.59296489, 1066409.57692047, 1066648.43445264,\n",
       "                1066887.18641887, 1067125.79143673, 1067364.27037434,\n",
       "                1067602.64405581, 1067840.87116399, 1068078.97253362,\n",
       "                1068316.96895557, 1068554.81917776, 1068792.54400165,\n",
       "                1069030.16418495, 1069267.6385405 , 1069504.98783657,\n",
       "                1069742.23279779, 1069979.33230175, 1070216.30708361,\n",
       "                1070453.17783503, 1070689.90349815, 1070926.50477514,\n",
       "                1071163.00232476, 1071399.35515356, 1071635.58393078,\n",
       "                1071871.70928238, 1072110.64284662, 1072350.61767676,\n",
       "                1072590.48502828, 1072830.20404272, 1073069.8157895 ,\n",
       "                1073309.27945349, 1073548.63606017, 1073787.84483766,\n",
       "                1074026.9263509 , 1074265.90112117, 1074504.72844134,\n",
       "                1074743.44922735, 1074982.0228151 , 1075220.49007689,\n",
       "                1075458.81039159, 1075697.00424702, 1075935.09208761,\n",
       "                1076173.03335658, 1076410.86881737, 1076648.55795601,\n",
       "                1076886.14149254, 1077123.57895568, 1077360.8907566 ,\n",
       "                1077598.09726337, 1077835.15806865, 1078072.11378435,\n",
       "                1078308.92404563, 1078545.6294213 , 1078782.18958898,\n",
       "                1079018.62488368, 1079254.9555976 , 1079491.14147189,\n",
       "                1079727.22296789, 1079963.15986901, 1080198.97245619,\n",
       "                1080434.68096769, 1080670.2452502 , 1080905.70565807,\n",
       "                1081141.02208005, 1081376.23482783, 1081614.15434197,\n",
       "                1081853.31160505, 1082092.34097616, 1082331.26261319,\n",
       "                1082570.03653785, 1082808.68291844, 1083047.20187057,\n",
       "                1083285.61350871, 1083523.87793951, 1083762.01528779,\n",
       "                1084000.02566852, 1084237.9291529 , 1084475.6859322 ,\n",
       "                1084713.31608795, 1084950.81973446, 1085188.21689983,\n",
       "                1085425.46785966, 1085662.59265231, 1085899.59139147,\n",
       "                1086136.46419069, 1086373.23102439, 1086609.85227314,\n",
       "                1086846.3479216 , 1087082.71808268, 1087318.98268805,\n",
       "                1087555.10220192, 1087791.09656617, 1088026.96589308,\n",
       "                1088262.73007171, 1088498.34964964, 1088733.8445261 ,\n",
       "                1088969.21481276, 1089204.46062108, 1089439.60178713,\n",
       "                1089674.59896225, 1089909.47199259, 1090144.22098905,\n",
       "                1090378.8657454 , 1090613.36699568, 1090847.74454378,\n",
       "                1091084.74976336, 1091323.16060612, 1091561.46315616,\n",
       "                1091799.63787763, 1092037.68488631, 1092275.60429785,\n",
       "                1092513.39622772, 1092751.06079123, 1092988.59810354,\n",
       "                1093226.00827963, 1093463.29143433, 1093700.4476823 ,\n",
       "                1093937.47713805, 1094174.37991593, 1094411.15613012,\n",
       "                1094647.80589466, 1094884.32932339, 1095120.72653004,\n",
       "                1095356.99762815, 1095593.14273111, 1095829.16195215,\n",
       "                1096065.05540435, 1096300.82320063, 1096536.46545375,\n",
       "                1096771.98227631, 1097007.37378075, 1097242.64007937,\n",
       "                1097477.7812843 , 1097712.79750753, 1097947.68886087,\n",
       "                1098182.45545599, 1098417.09740441, 1098651.61481749,\n",
       "                1098886.00780643, 1099120.27648229, 1099354.42095597,\n",
       "                1099588.4413382 , 1099822.33773959, 1100056.11027057,\n",
       "                1100289.75904142, 1100525.88118414, 1100763.66511813,\n",
       "                1101001.32094401, 1101238.84877775, 1101476.24873516,\n",
       "                1101713.52093189, 1101950.66548344, 1102187.66334034,\n",
       "                1102424.55295762, 1102661.3152752 , 1102897.95040791,\n",
       "                1103134.45847045, 1103370.83957733, 1103607.09384292,\n",
       "                1103843.22138142, 1104079.22230688, 1104315.07766078,\n",
       "                1104550.82571187, 1104786.4474911 , 1105021.94311188,\n",
       "                1105257.31268746, 1105492.55633093, 1105727.67415525,\n",
       "                1105962.6662732 , 1106197.51380648, 1106432.25485955,\n",
       "                1106666.87054366, 1106901.36097096, 1107135.72625347,\n",
       "                1107369.96650304, 1107604.08183136, 1107838.07234999,\n",
       "                1108071.91926027, 1108305.66050358, 1108539.27727089,\n",
       "                1108772.76967313, 1109006.13782108, 1109239.38182536,\n",
       "                1109472.50179645, 1109705.49784467, 1109940.83676347,\n",
       "                1110178.04420632, 1110415.14208536, 1110652.09288814,\n",
       "                1110888.91555003, 1111125.61018686, 1111362.17691427,\n",
       "                1111598.61584778, 1111834.9271027 , 1112071.12953242,\n",
       "                1112307.18576545, 1112543.11466496, 1112778.91634564,\n",
       "                1113014.59092203, 1113250.13850851, 1113485.5592193 ,\n",
       "                1113720.87183607, 1113956.03912746, 1114191.07988487,\n",
       "                1114425.99422189, 1114660.78225196, 1114895.44408835,\n",
       "                1115129.99845164])"
      ]
     },
     "execution_count": 10,
     "metadata": {},
     "output_type": "execute_result"
    }
   ],
   "source": [
    "t_s = df['t_s'].values\n",
    "freq_rev = line.energy_program.get_frev_at_t_s(t_s) # Revolution frequency at selected times\n",
    "freq_rev"
   ]
  },
  {
   "cell_type": "code",
   "execution_count": 12,
   "id": "91dcfa61",
   "metadata": {},
   "outputs": [],
   "source": [
    "# Create interpolating functions and variables\n",
    "line.functions['fun_freq_rev'] = xd.FunctionPieceWiseLinear(x=t_s, y=freq_rev)\n",
    "line.vars['freq_rev'] = line.functions['fun_freq_rev'](line.vars['t_turn_s'])\n",
    "\n",
    "# Create variables for first and second harmonics\n",
    "line.vars['freq_h1'] = line.vars['freq_rev']\n",
    "line.vars['freq_h2'] = 2 * line.vars['freq_rev']"
   ]
  },
  {
   "cell_type": "code",
   "execution_count": 15,
   "id": "4f6d3a72",
   "metadata": {},
   "outputs": [
    {
     "name": "stdout",
     "output_type": "stream",
     "text": [
      "0.5197529493971105 991965.9679940767 1983931.9359881533\n"
     ]
    }
   ],
   "source": [
    "# Test at 0 ms\n",
    "line.vars['t_turn_s'] = 0\n",
    "print(line.particle_ref.beta0[0], line.vv['freq_h1'], line.vv['freq_h2'])"
   ]
  },
  {
   "cell_type": "code",
   "execution_count": 16,
   "id": "c3ecba27",
   "metadata": {},
   "outputs": [
    {
     "name": "stdout",
     "output_type": "stream",
     "text": [
      "0.5219878453717992 996231.3420558685 1992462.684111737\n"
     ]
    }
   ],
   "source": [
    "# Test at 5 ms\n",
    "line.vars['t_turn_s'] = 5e-3\n",
    "print(line.particle_ref.beta0[0], line.vv['freq_h1'], line.vv['freq_h2'])"
   ]
  },
  {
   "cell_type": "markdown",
   "id": "fb1eb8a3",
   "metadata": {},
   "source": [
    "### RF voltage and phase programs"
   ]
  },
  {
   "cell_type": "code",
   "execution_count": 20,
   "id": "c411de6b",
   "metadata": {},
   "outputs": [],
   "source": [
    "V1_MV = df.V1_MV.values # comes from the file\n",
    "V2_MV = df.V2_MV.values # comes from the file\n",
    "\n",
    "# Shift phases to have the beam centered around zero\n",
    "phi1_rad = df.phi1_rad.values - np.pi\n",
    "phi2_rad = df.phi2_rad.values - np.pi\n",
    "\n",
    "# Build interpolating functions and variables for voltages\n",
    "line.functions['fun_volt_mv_h1'] = xd.FunctionPieceWiseLinear(x=t_s, y=V1_MV)\n",
    "line.functions['fun_volt_mv_h2'] = xd.FunctionPieceWiseLinear(x=t_s, y=V2_MV)\n",
    "line.vars['volt_mv_h1'] = line.functions['fun_volt_mv_h1'](line.vars['t_turn_s'])\n",
    "line.vars['volt_mv_h2'] = line.functions['fun_volt_mv_h2'](line.vars['t_turn_s'])\n",
    "\n",
    "# Build interpolating functions and variables for voltages\n",
    "line.functions['fun_phi_rad_h1'] = xd.FunctionPieceWiseLinear(x=t_s, y=phi1_rad)\n",
    "line.functions['fun_phi_rad_h2'] = xd.FunctionPieceWiseLinear(x=t_s, y=phi2_rad)\n",
    "line.vars['phi_rad_h1'] = line.functions['fun_phi_rad_h1'](line.vars['t_turn_s'])\n",
    "line.vars['phi_rad_h2'] = line.functions['fun_phi_rad_h2'](line.vars['t_turn_s'])"
   ]
  },
  {
   "cell_type": "markdown",
   "id": "fb040449",
   "metadata": {},
   "source": [
    "### Attach variables to cavities"
   ]
  },
  {
   "cell_type": "code",
   "execution_count": 21,
   "id": "f663a70b",
   "metadata": {},
   "outputs": [],
   "source": [
    "line.element_refs['br1.acwf5l1.1'].voltage = line.vars['volt_mv_h1'] * 1e6\n",
    "line.element_refs['br1.acwf5l1.2'].voltage = line.vars['volt_mv_h2'] * 1e6\n",
    "\n",
    "line.element_refs['br1.acwf5l1.1'].lag = line.vars['phi_rad_h1'] * 360 / 2 / np.pi\n",
    "line.element_refs['br1.acwf5l1.2'].lag = line.vars['phi_rad_h2'] * 360 / 2 / np.pi\n",
    "\n",
    "line.element_refs['br1.acwf5l1.1'].frequency = line.vars['freq_h1']\n",
    "line.element_refs['br1.acwf5l1.2'].frequency = line.vars['freq_h2']"
   ]
  },
  {
   "cell_type": "markdown",
   "id": "3f2c6588",
   "metadata": {},
   "source": [
    "### Characterize with twiss"
   ]
  },
  {
   "cell_type": "code",
   "execution_count": 22,
   "id": "f2c3cfda",
   "metadata": {},
   "outputs": [
    {
     "name": "stdout",
     "output_type": "stream",
     "text": [
      "Found suitable prebuilt kernel `only_xtrack_frozen_energy`.\n",
      "Computing twiss at t_s = 0.05 s         \r"
     ]
    }
   ],
   "source": [
    "t_check = np.linspace(0, 50e-3, 200)\n",
    "\n",
    "t_rev = []\n",
    "gamma0 = []\n",
    "f_h1 = []\n",
    "f_h2 = []\n",
    "lag_h1 = []\n",
    "lag_h2 = []\n",
    "volt_h1 = []\n",
    "volt_h2 = []\n",
    "x_at_foil = []\n",
    "for ii, tt in enumerate(t_check):\n",
    "    print(f'Computing twiss at t_s = {tt:.4} s    ', end='\\r', flush=True)\n",
    "    line.vars['t_turn_s'] = tt\n",
    "    tw = line.twiss(method='4d')\n",
    "    t_rev.append(tw.T_rev0)\n",
    "    gamma0.append(tw.gamma0)\n",
    "    f_h1.append(line['br1.acwf5l1.1'].frequency)\n",
    "    f_h2.append(line['br1.acwf5l1.2'].frequency)\n",
    "    lag_h1.append(line['br1.acwf5l1.1'].lag)\n",
    "    lag_h2.append(line['br1.acwf5l1.2'].lag)\n",
    "    volt_h1.append(line['br1.acwf5l1.1'].voltage)\n",
    "    volt_h2.append(line['br1.acwf5l1.2'].voltage)\n",
    "    x_at_foil.append(tw['x', 'bi1.tstr1l1_entry'])\n",
    "\n",
    "\n",
    "line.vars['t_turn_s'] = 0\n",
    "\n",
    "gamma0 = np.array(gamma0)\n",
    "f_h1 = np.array(f_h1)\n",
    "f_h2 = np.array(f_h2)\n",
    "e_kin_gev = 1e-9 * xt.PROTON_MASS_EV * (gamma0 - 1)"
   ]
  },
  {
   "cell_type": "code",
   "execution_count": 23,
   "id": "3f8f8bc8",
   "metadata": {
    "scrolled": false
   },
   "outputs": [
    {
     "data": {
      "image/png": "[encoded data removed]",
      "text/plain": [
       "<Figure size 576x624 with 5 Axes>"
      ]
     },
     "metadata": {},
     "output_type": "display_data"
    }
   ],
   "source": [
    "plt.figure(3, figsize=(6.4 * 0.9, 4.8 * 1.3))\n",
    "sp1 = plt.subplot(5,1,1)\n",
    "plt.plot(t_check*1e3, e_kin_gev)\n",
    "plt.ylabel(r'$E_{kin}$ [GeV]')\n",
    "\n",
    "sp2 = plt.subplot(5,1,2, sharex=sp1)\n",
    "plt.plot(t_check*1e3, f_h1*1e-6, label='h1')\n",
    "plt.plot(t_check*1e3, f_h2*1e-6, label='h2')\n",
    "plt.ylabel('frequency [MHz]')\n",
    "plt.legend()\n",
    "                  \n",
    "plt.subplot(5,1,3, sharex=sp1)\n",
    "plt.plot(t_check*1e3, lag_h1, label='h1')\n",
    "plt.plot(t_check*1e3, lag_h2, label='h2')\n",
    "plt.ylabel('lag [deg]')\n",
    "plt.legend()\n",
    "\n",
    "plt.subplot(5,1,4, sharex=sp1)\n",
    "plt.plot(t_check*1e3, volt_h1, label='h1')\n",
    "plt.plot(t_check*1e3, volt_h2, label='h2')\n",
    "plt.ylabel('voltage [V]')\n",
    "\n",
    "plt.subplot(5,1,5, sharex=sp1)\n",
    "plt.plot(t_check*1e3, np.array(x_at_foil)*1e3, label='x at foil')\n",
    "plt.ylabel('x at foil [mm]')\n",
    "\n",
    "plt.legend()\n",
    "\n",
    "plt.xlabel('t [ms]')\n",
    "\n",
    "plt.subplots_adjust(top=.95, bottom=0.1, left=.15, hspace=.3)"
   ]
  },
  {
   "cell_type": "markdown",
   "id": "633f8c1e",
   "metadata": {},
   "source": [
    "### Save"
   ]
  },
  {
   "cell_type": "code",
   "execution_count": 24,
   "id": "ee606e37",
   "metadata": {},
   "outputs": [],
   "source": [
    "line.to_json('psb_04_acceleration_and_rf.json')"
   ]
  },
  {
   "cell_type": "code",
   "execution_count": null,
   "id": "9c4cf292",
   "metadata": {},
   "outputs": [],
   "source": []
  }
 ],
 "metadata": {
  "kernelspec": {
   "display_name": "Python 3 (ipykernel)",
   "language": "python",
   "name": "python3"
  },
  "language_info": {
   "codemirror_mode": {
    "name": "ipython",
    "version": 3
   },
   "file_extension": ".py",
   "mimetype": "text/x-python",
   "name": "python",
   "nbconvert_exporter": "python",
   "pygments_lexer": "ipython3",
   "version": "3.10.9"
  }
 },
 "nbformat": 4,
 "nbformat_minor": 5
}
