{
 "cells": [
  {
   "cell_type": "markdown",
   "id": "c6ccdbf2",
   "metadata": {},
   "source": [
    "# PSB injection bump in Xsuite - thin model for tracking"
   ]
  },
  {
   "cell_type": "code",
   "execution_count": 1,
   "id": "b81d0377",
   "metadata": {},
   "outputs": [],
   "source": [
    "%matplotlib notebook"
   ]
  },
  {
   "cell_type": "code",
   "execution_count": 2,
   "id": "40616266",
   "metadata": {},
   "outputs": [
    {
     "name": "stderr",
     "output_type": "stream",
     "text": [
      "/Users/giadarol/xsuite_packages/xtrack/xtrack/progress_indicator.py:90: TqdmExperimentalWarning: Using `tqdm.autonotebook.tqdm` in notebook mode. Use `tqdm.tqdm` instead to force console mode (e.g. in jupyter console)\n",
      "  from tqdm.autonotebook import tqdm\n"
     ]
    }
   ],
   "source": [
    "# Import modules\n",
    "import matplotlib.pyplot as plt\n",
    "import numpy as np\n",
    "import pandas as pd\n",
    "\n",
    "import xtrack as xt\n",
    "import xpart as xp\n",
    "import xdeps as xd\n",
    "\n",
    "from cpymad.madx import Madx"
   ]
  },
  {
   "cell_type": "markdown",
   "id": "51a56f9f",
   "metadata": {},
   "source": [
    "###  Load line from previous notebook"
   ]
  },
  {
   "cell_type": "code",
   "execution_count": 3,
   "id": "0a303702",
   "metadata": {},
   "outputs": [
    {
     "data": {
      "application/vnd.jupyter.widget-view+json": {
       "model_id": "d5bf3a2ae7d74a74ab457e218d27f8c6",
       "version_major": 2,
       "version_minor": 0
      },
      "text/plain": [
       "Loading line from dict:   0%|          | 0/1228 [00:00<?, ?it/s]"
      ]
     },
     "metadata": {},
     "output_type": "display_data"
    },
    {
     "name": "stdout",
     "output_type": "stream",
     "text": [
      "Done loading line from dict.           \n",
      "Found suitable prebuilt kernel `default_only_xtrack`.\n"
     ]
    },
    {
     "data": {
      "text/plain": [
       "<xtrack.tracker.Tracker at 0x1756cf1c0>"
      ]
     },
     "execution_count": 3,
     "metadata": {},
     "output_type": "execute_result"
    }
   ],
   "source": [
    "# Reload\n",
    "line_thick = xt.Line.from_json('psb_04_acceleration_and_rf.json')\n",
    "line_thick.build_tracker()"
   ]
  },
  {
   "cell_type": "markdown",
   "id": "07d2d6b5",
   "metadata": {},
   "source": [
    "### Slice all thick elements"
   ]
  },
  {
   "cell_type": "code",
   "execution_count": 4,
   "id": "a2467bf7",
   "metadata": {},
   "outputs": [
    {
     "data": {
      "application/vnd.jupyter.widget-view+json": {
       "model_id": "3028dd44ef9c441fbcd1e1c1221c4b22",
       "version_major": 2,
       "version_minor": 0
      },
      "text/plain": [
       "Slicing line:   0%|          | 0/530 [00:00<?, ?it/s]"
      ]
     },
     "metadata": {},
     "output_type": "display_data"
    },
    {
     "name": "stdout",
     "output_type": "stream",
     "text": [
      "Found suitable prebuilt kernel `default_only_xtrack`.\n"
     ]
    },
    {
     "data": {
      "text/plain": [
       "<xtrack.tracker.Tracker at 0x29e087700>"
      ]
     },
     "execution_count": 4,
     "metadata": {},
     "output_type": "execute_result"
    }
   ],
   "source": [
    "from xtrack.slicing import Strategy, Teapot\n",
    "\n",
    "# Make a copy to preserve the thick model for reference\n",
    "line = line_thick.copy()\n",
    "\n",
    "line.slice_thick_elements(\n",
    "    slicing_strategies=[\n",
    "        Strategy(slicing=Teapot(1)), # Default\n",
    "        Strategy(slicing=Teapot(2),  element_type=xt.Bend),\n",
    "        Strategy(slicing=Teapot(10), element_type=xt.Quadrupole),\n",
    "        Strategy(slicing=Teapot(4),  name=r'bi.*.bsw.*'),\n",
    "    ]\n",
    ")\n",
    "\n",
    "line.build_tracker()"
   ]
  },
  {
   "cell_type": "markdown",
   "id": "c996a7b1",
   "metadata": {},
   "source": [
    "### Check Q, Q' and beta beating at t=0"
   ]
  },
  {
   "cell_type": "code",
   "execution_count": 5,
   "id": "89ef037d",
   "metadata": {},
   "outputs": [
    {
     "name": "stdout",
     "output_type": "stream",
     "text": [
      "Found suitable prebuilt kernel `only_xtrack_frozen_energy`.\n",
      "Found suitable prebuilt kernel `only_xtrack_frozen_energy`.\n",
      "Qx: thick 4.4008 thin 4.4000, diff 7.2235e-04\n",
      "Qy: thick 4.4702 thin 4.4706, diff -3.8303e-04\n",
      "Q'x: thick -3.7295 thin -3.5593, diff -0.1701\n",
      "Q'y: thick -8.6985 thin -8.5256, diff -0.1729\n",
      "Max beta beat: 5.5100e-03\n"
     ]
    }
   ],
   "source": [
    "tw_thin = line.twiss()\n",
    "tw_thick = line_thick.twiss()\n",
    "print(f'Qx: thick {tw_thin.qx:.4f} thin {tw_thick.qx:.4f}, diff {tw_thin.qx-tw_thick.qx:.4e}')\n",
    "print(f'Qy: thick {tw_thin.qy:.4f} thin {tw_thick.qy:.4f}, diff {tw_thin.qy-tw_thick.qy:.4e}')\n",
    "print(f\"Q'x: thick {tw_thin.dqx:.4f} thin {tw_thick.dqx:.4f}, diff {tw_thin.dqx-tw_thick.dqx:.4f}\")\n",
    "print(f\"Q'y: thick {tw_thin.dqy:.4f} thin {tw_thick.dqy:.4f}, diff {tw_thin.dqy-tw_thick.dqy:.4f}\")\n",
    "\n",
    "bety_interp = np.interp(tw_thick.s, tw_thin.s, tw_thin.bety)\n",
    "print(f\"Max beta beat: {np.max(np.abs(tw_thick.bety/bety_interp - 1)):.4e}\")"
   ]
  },
  {
   "cell_type": "markdown",
   "id": "34672d8e",
   "metadata": {},
   "source": [
    "### Compare tune and chromaticity during chicane collapse"
   ]
  },
  {
   "cell_type": "code",
   "execution_count": 6,
   "id": "7c5354ee",
   "metadata": {},
   "outputs": [],
   "source": [
    "# Comparison with correction off\n",
    "for ll in [line, line_thick]:\n",
    "    ll.vars['on_chicane_k0'] = 1\n",
    "    ll.vars['on_chicane_k2'] = 1\n",
    "    ll.vars['on_chicane_beta_corr'] = 0\n",
    "    ll.vars['on_chicane_tune_corr'] = 0"
   ]
  },
  {
   "cell_type": "code",
   "execution_count": 7,
   "id": "149ad3fa",
   "metadata": {},
   "outputs": [
    {
     "name": "stdout",
     "output_type": "stream",
     "text": [
      "Check at t = 0.00 ms   \r"
     ]
    },
    {
     "ename": "KeyError",
     "evalue": "'energy_program'",
     "output_type": "error",
     "traceback": [
      "\u001b[0;31m---------------------------------------------------------------------------\u001b[0m",
      "\u001b[0;31mKeyError\u001b[0m                                  Traceback (most recent call last)",
      "Cell \u001b[0;32mIn[7], line 11\u001b[0m\n\u001b[1;32m      8\u001b[0m \u001b[38;5;28;01mfor\u001b[39;00m ii, tt \u001b[38;5;129;01min\u001b[39;00m \u001b[38;5;28menumerate\u001b[39m(t_test):\n\u001b[1;32m      9\u001b[0m     \u001b[38;5;28mprint\u001b[39m(\u001b[38;5;124mf\u001b[39m\u001b[38;5;124m'\u001b[39m\u001b[38;5;124mCheck at t = \u001b[39m\u001b[38;5;132;01m{\u001b[39;00mtt\u001b[38;5;241m*\u001b[39m\u001b[38;5;241m1e3\u001b[39m\u001b[38;5;132;01m:\u001b[39;00m\u001b[38;5;124m.2f\u001b[39m\u001b[38;5;132;01m}\u001b[39;00m\u001b[38;5;124m ms   \u001b[39m\u001b[38;5;124m'\u001b[39m, end\u001b[38;5;241m=\u001b[39m\u001b[38;5;124m'\u001b[39m\u001b[38;5;130;01m\\r\u001b[39;00m\u001b[38;5;124m'\u001b[39m, flush\u001b[38;5;241m=\u001b[39m\u001b[38;5;28;01mTrue\u001b[39;00m)\n\u001b[0;32m---> 11\u001b[0m     \u001b[43mline_thick\u001b[49m\u001b[38;5;241;43m.\u001b[39;49m\u001b[43mvars\u001b[49m\u001b[43m[\u001b[49m\u001b[38;5;124;43m'\u001b[39;49m\u001b[38;5;124;43mt_turn_s\u001b[39;49m\u001b[38;5;124;43m'\u001b[39;49m\u001b[43m]\u001b[49m \u001b[38;5;241m=\u001b[39m tt\n\u001b[1;32m     12\u001b[0m     line\u001b[38;5;241m.\u001b[39mvars[\u001b[38;5;124m'\u001b[39m\u001b[38;5;124mt_turn_s\u001b[39m\u001b[38;5;124m'\u001b[39m] \u001b[38;5;241m=\u001b[39m tt\n\u001b[1;32m     14\u001b[0m     tw_thick \u001b[38;5;241m=\u001b[39m line_thick\u001b[38;5;241m.\u001b[39mtwiss()\n",
      "File \u001b[0;32m~/xsuite_packages/xtrack/xtrack/line.py:3747\u001b[0m, in \u001b[0;36mLineVars.__setitem__\u001b[0;34m(self, key, value)\u001b[0m\n\u001b[1;32m   3745\u001b[0m     \u001b[38;5;28mself\u001b[39m\u001b[38;5;241m.\u001b[39m_setter_from_cache(key)(value)\n\u001b[1;32m   3746\u001b[0m \u001b[38;5;28;01melse\u001b[39;00m:\n\u001b[0;32m-> 3747\u001b[0m     \u001b[38;5;28;43mself\u001b[39;49m\u001b[38;5;241;43m.\u001b[39;49m\u001b[43mline\u001b[49m\u001b[38;5;241;43m.\u001b[39;49m\u001b[43m_xdeps_vref\u001b[49m\u001b[43m[\u001b[49m\u001b[43mkey\u001b[49m\u001b[43m]\u001b[49m \u001b[38;5;241m=\u001b[39m value\n",
      "File \u001b[0;32m~/xsuite_packages/xdeps/xdeps/refs.py:338\u001b[0m, in \u001b[0;36mMutableRef.__setitem__\u001b[0;34m(self, key, value)\u001b[0m\n\u001b[1;32m    336\u001b[0m \u001b[38;5;28;01mdef\u001b[39;00m \u001b[38;5;21m__setitem__\u001b[39m(\u001b[38;5;28mself\u001b[39m, key, value):\n\u001b[1;32m    337\u001b[0m     ref \u001b[38;5;241m=\u001b[39m ItemRef(\u001b[38;5;28mself\u001b[39m, key, \u001b[38;5;28mself\u001b[39m\u001b[38;5;241m.\u001b[39m_manager)\n\u001b[0;32m--> 338\u001b[0m     \u001b[38;5;28;43mself\u001b[39;49m\u001b[38;5;241;43m.\u001b[39;49m\u001b[43m_manager\u001b[49m\u001b[38;5;241;43m.\u001b[39;49m\u001b[43mset_value\u001b[49m\u001b[43m(\u001b[49m\u001b[43mref\u001b[49m\u001b[43m,\u001b[49m\u001b[43m \u001b[49m\u001b[43mvalue\u001b[49m\u001b[43m)\u001b[49m\n",
      "File \u001b[0;32m~/xsuite_packages/xdeps/xdeps/tasks.py:170\u001b[0m, in \u001b[0;36mManager.set_value\u001b[0;34m(self, ref, value)\u001b[0m\n\u001b[1;32m    168\u001b[0m     value \u001b[38;5;241m=\u001b[39m value\u001b[38;5;241m.\u001b[39m_get_value()  \u001b[38;5;66;03m# to be updated\u001b[39;00m\n\u001b[1;32m    169\u001b[0m ref\u001b[38;5;241m.\u001b[39m_set_value(value)\n\u001b[0;32m--> 170\u001b[0m \u001b[38;5;28;43mself\u001b[39;49m\u001b[38;5;241;43m.\u001b[39;49m\u001b[43m_run_tasks\u001b[49m\u001b[43m(\u001b[49m\u001b[38;5;28;43mself\u001b[39;49m\u001b[38;5;241;43m.\u001b[39;49m\u001b[43mfind_tasks\u001b[49m\u001b[43m(\u001b[49m\u001b[43mref\u001b[49m\u001b[38;5;241;43m.\u001b[39;49m\u001b[43m_get_dependencies\u001b[49m\u001b[43m(\u001b[49m\u001b[43m)\u001b[49m\u001b[43m)\u001b[49m\u001b[43m)\u001b[49m\n",
      "File \u001b[0;32m~/xsuite_packages/xdeps/xdeps/tasks.py:175\u001b[0m, in \u001b[0;36mManager._run_tasks\u001b[0;34m(self, tasks)\u001b[0m\n\u001b[1;32m    173\u001b[0m \u001b[38;5;28;01mfor\u001b[39;00m task \u001b[38;5;129;01min\u001b[39;00m tasks:\n\u001b[1;32m    174\u001b[0m     logger\u001b[38;5;241m.\u001b[39minfo(\u001b[38;5;124m\"\u001b[39m\u001b[38;5;124mRun \u001b[39m\u001b[38;5;132;01m%s\u001b[39;00m\u001b[38;5;124m\"\u001b[39m, task)\n\u001b[0;32m--> 175\u001b[0m     \u001b[43mtask\u001b[49m\u001b[38;5;241;43m.\u001b[39;49m\u001b[43mrun\u001b[49m\u001b[43m(\u001b[49m\u001b[43m)\u001b[49m\n",
      "File \u001b[0;32m~/xsuite_packages/xdeps/xdeps/tasks.py:75\u001b[0m, in \u001b[0;36mExprTask.run\u001b[0;34m(self)\u001b[0m\n\u001b[1;32m     73\u001b[0m \u001b[38;5;28;01mdef\u001b[39;00m \u001b[38;5;21mrun\u001b[39m(\u001b[38;5;28mself\u001b[39m):\n\u001b[1;32m     74\u001b[0m     value \u001b[38;5;241m=\u001b[39m \u001b[38;5;28mself\u001b[39m\u001b[38;5;241m.\u001b[39mexpr\u001b[38;5;241m.\u001b[39m_get_value()\n\u001b[0;32m---> 75\u001b[0m     \u001b[38;5;28;43mself\u001b[39;49m\u001b[38;5;241;43m.\u001b[39;49m\u001b[43mtaskid\u001b[49m\u001b[38;5;241;43m.\u001b[39;49m\u001b[43m_set_value\u001b[49m\u001b[43m(\u001b[49m\u001b[43mvalue\u001b[49m\u001b[43m)\u001b[49m\n",
      "File \u001b[0;32m~/xsuite_packages/xdeps/xdeps/refs.py:521\u001b[0m, in \u001b[0;36mAttrRef._set_value\u001b[0;34m(self, value)\u001b[0m\n\u001b[1;32m    520\u001b[0m \u001b[38;5;28;01mdef\u001b[39;00m \u001b[38;5;21m_set_value\u001b[39m(\u001b[38;5;28mself\u001b[39m, value):\n\u001b[0;32m--> 521\u001b[0m     owner \u001b[38;5;241m=\u001b[39m \u001b[43mARef\u001b[49m\u001b[38;5;241;43m.\u001b[39;49m\u001b[43m_mk_value\u001b[49m\u001b[43m(\u001b[49m\u001b[38;5;28;43mself\u001b[39;49m\u001b[38;5;241;43m.\u001b[39;49m\u001b[43m_owner\u001b[49m\u001b[43m)\u001b[49m\n\u001b[1;32m    522\u001b[0m     attr \u001b[38;5;241m=\u001b[39m ARef\u001b[38;5;241m.\u001b[39m_mk_value(\u001b[38;5;28mself\u001b[39m\u001b[38;5;241m.\u001b[39m_key)\n\u001b[1;32m    523\u001b[0m     \u001b[38;5;28msetattr\u001b[39m(owner, attr, value)\n",
      "File \u001b[0;32m~/xsuite_packages/xdeps/xdeps/refs.py:139\u001b[0m, in \u001b[0;36mARef._mk_value\u001b[0;34m(value)\u001b[0m\n\u001b[1;32m    136\u001b[0m \u001b[38;5;129m@staticmethod\u001b[39m\n\u001b[1;32m    137\u001b[0m \u001b[38;5;28;01mdef\u001b[39;00m \u001b[38;5;21m_mk_value\u001b[39m(value):\n\u001b[1;32m    138\u001b[0m     \u001b[38;5;28;01mif\u001b[39;00m \u001b[38;5;28misinstance\u001b[39m(value, ARef):\n\u001b[0;32m--> 139\u001b[0m         \u001b[38;5;28;01mreturn\u001b[39;00m \u001b[43mvalue\u001b[49m\u001b[38;5;241;43m.\u001b[39;49m\u001b[43m_get_value\u001b[49m\u001b[43m(\u001b[49m\u001b[43m)\u001b[49m\n\u001b[1;32m    140\u001b[0m     \u001b[38;5;28;01melse\u001b[39;00m:\n\u001b[1;32m    141\u001b[0m         \u001b[38;5;28;01mreturn\u001b[39;00m value\n",
      "File \u001b[0;32m~/xsuite_packages/xdeps/xdeps/refs.py:551\u001b[0m, in \u001b[0;36mItemRef._get_value\u001b[0;34m(self)\u001b[0m\n\u001b[1;32m    549\u001b[0m owner \u001b[38;5;241m=\u001b[39m ARef\u001b[38;5;241m.\u001b[39m_mk_value(\u001b[38;5;28mself\u001b[39m\u001b[38;5;241m.\u001b[39m_owner)\n\u001b[1;32m    550\u001b[0m item \u001b[38;5;241m=\u001b[39m ARef\u001b[38;5;241m.\u001b[39m_mk_value(\u001b[38;5;28mself\u001b[39m\u001b[38;5;241m.\u001b[39m_key)\n\u001b[0;32m--> 551\u001b[0m \u001b[38;5;28;01mreturn\u001b[39;00m \u001b[43mowner\u001b[49m\u001b[43m[\u001b[49m\u001b[43mitem\u001b[49m\u001b[43m]\u001b[49m\n",
      "\u001b[0;31mKeyError\u001b[0m: 'energy_program'"
     ]
    }
   ],
   "source": [
    "t_test = np.linspace(0, 6e-3, 100)\n",
    "\n",
    "qx_thick = []; qy_thick = []; dqx_thick = []; dqy_thick = []\n",
    "qx_thin = []; qy_thin = []; dqx_thin = []; dqy_thin = [] \n",
    "bety_at_scraper_thin = []; bety_at_scraper_thick = []\n",
    "x_at_foil_thick = []; x_at_foil_thin = []\n",
    "\n",
    "for ii, tt in enumerate(t_test):\n",
    "    print(f'Check at t = {tt*1e3:.2f} ms   ', end='\\r', flush=True)\n",
    "    \n",
    "    line_thick.vars['t_turn_s'] = tt\n",
    "    line.vars['t_turn_s'] = tt\n",
    "\n",
    "    tw_thick = line_thick.twiss()\n",
    "    \n",
    "    x_at_foil_thick.append(tw_thick['x', 'bi1.tstr1l1_entry'])\n",
    "    bety_at_scraper_thick.append(tw_thick['bety', 'br.stscrap22_entry'])\n",
    "    qx_thick.append(tw_thick.qx)\n",
    "    qy_thick.append(tw_thick.qy)\n",
    "    dqx_thick.append(tw_thick.dqx)\n",
    "    dqy_thick.append(tw_thick.dqy)\n",
    "\n",
    "    tw_thin = line.twiss()\n",
    "    \n",
    "    x_at_foil_thin.append(tw_thin['x', 'bi1.tstr1l1_entry'])\n",
    "    bety_at_scraper_thin.append(tw_thin['bety', 'br.stscrap22_entry'])\n",
    "    qx_thin.append(tw_thin.qx)\n",
    "    qy_thin.append(tw_thin.qy)\n",
    "    dqx_thin.append(tw_thin.dqx)\n",
    "    dqy_thin.append(tw_thin.dqy)"
   ]
  },
  {
   "cell_type": "code",
   "execution_count": null,
   "id": "510fedd6",
   "metadata": {
    "scrolled": true
   },
   "outputs": [],
   "source": [
    "plt.figure(2, figsize=(6.4*1.5, 4.8*1.2))\n",
    "\n",
    "sp1 = plt.subplot(2,2,1)\n",
    "plt.plot(t_test*1e3, np.array(x_at_foil_thick)*1e3, '-', label='thick')\n",
    "plt.plot(t_test*1e3, np.array(x_at_foil_thin)*1e3, '--', label='thin')\n",
    "plt.ylabel('x at foil [mm]')\n",
    "\n",
    "sp2 = plt.subplot(2,2,2, sharex=sp1)\n",
    "plt.plot(t_test*1e3, qy_thick, '-', label='thick')\n",
    "plt.plot(t_test*1e3, qy_thin, '--', label='thin')\n",
    "plt.ylabel(r'$Q_y$')\n",
    "plt.legend()\n",
    "\n",
    "sp3 = plt.subplot(2,2,3, sharex=sp1)\n",
    "plt.plot(t_test*1e3, bety_at_scraper_thick, '-', label='thick')\n",
    "plt.plot(t_test*1e3, bety_at_scraper_thin, '--', label='thin')\n",
    "plt.ylabel(r'$\\beta_y$ at scraper [m]')\n",
    "plt.xlabel('time [ms]')\n",
    "\n",
    "sp2 = plt.subplot(2,2,4, sharex=sp1)\n",
    "plt.plot(t_test*1e3, dqx_thick, '-', label='x - thick')\n",
    "plt.plot(t_test*1e3, dqx_thin, '--', label='y - thin')\n",
    "plt.plot(t_test*1e3, dqy_thick, '-', label='x - thick')\n",
    "plt.plot(t_test*1e3, dqy_thin, '--', label='y - thin')\n",
    "plt.ylabel(r\"$Q'_{x,y}$\")\n",
    "plt.xlabel('time [ms]')\n",
    "plt.subplots_adjust(hspace=.2, wspace=.3)"
   ]
  },
  {
   "cell_type": "markdown",
   "id": "d56d8112",
   "metadata": {},
   "source": [
    "### Save line"
   ]
  },
  {
   "cell_type": "code",
   "execution_count": null,
   "id": "b67f3cba",
   "metadata": {},
   "outputs": [],
   "source": [
    "line.to_json('psb_05_thin.json')"
   ]
  },
  {
   "cell_type": "markdown",
   "id": "fc04fd98",
   "metadata": {},
   "source": [
    "-------"
   ]
  },
  {
   "cell_type": "code",
   "execution_count": null,
   "id": "4a834fcd",
   "metadata": {},
   "outputs": [],
   "source": []
  }
 ],
 "metadata": {
  "kernelspec": {
   "display_name": "Python 3 (ipykernel)",
   "language": "python",
   "name": "python3"
  },
  "language_info": {
   "codemirror_mode": {
    "name": "ipython",
    "version": 3
   },
   "file_extension": ".py",
   "mimetype": "text/x-python",
   "name": "python",
   "nbconvert_exporter": "python",
   "pygments_lexer": "ipython3",
   "version": "3.10.9"
  }
 },
 "nbformat": 4,
 "nbformat_minor": 5
}
