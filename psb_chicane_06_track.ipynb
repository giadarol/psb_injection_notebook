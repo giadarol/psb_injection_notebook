{
 "cells": [
  {
   "cell_type": "markdown",
   "id": "c6ccdbf2",
   "metadata": {},
   "source": [
    "# PSB injection bump in Xsuite - track!"
   ]
  },
  {
   "cell_type": "code",
   "execution_count": 1,
   "id": "b81d0377",
   "metadata": {},
   "outputs": [],
   "source": [
    "%matplotlib notebook"
   ]
  },
  {
   "cell_type": "code",
   "execution_count": 2,
   "id": "40616266",
   "metadata": {},
   "outputs": [],
   "source": [
    "# Import modules\n",
    "import matplotlib.pyplot as plt\n",
    "import numpy as np\n",
    "import pandas as pd\n",
    "\n",
    "import xtrack as xt\n",
    "import xpart as xp\n",
    "import xdeps as xd\n",
    "\n",
    "from cpymad.madx import Madx"
   ]
  },
  {
   "cell_type": "markdown",
   "id": "51a56f9f",
   "metadata": {},
   "source": [
    "###  Load line from previous notebook"
   ]
  },
  {
   "cell_type": "code",
   "execution_count": 3,
   "id": "0a303702",
   "metadata": {},
   "outputs": [
    {
     "name": "stderr",
     "output_type": "stream",
     "text": [
      "Loading line from dict: 100%|█| 2396/2396 [00\n"
     ]
    },
    {
     "name": "stdout",
     "output_type": "stream",
     "text": [
      "Done loading line from dict.           \n",
      "Found suitable prebuilt kernel `default_only_xtrack`.\n",
      "Found suitable prebuilt kernel `only_xtrack_frozen_energy`.\n"
     ]
    }
   ],
   "source": [
    "# Reload\n",
    "line = xt.Line.from_json('psb_05_thin.json')\n",
    "line.build_tracker()\n",
    "tw = line.twiss()\n",
    "\n",
    "line.vars['t_turn_s'] = 0 # avoid leftovers from previous scripts"
   ]
  },
  {
   "cell_type": "code",
   "execution_count": 4,
   "id": "963abdab",
   "metadata": {},
   "outputs": [
    {
     "name": "stdout",
     "output_type": "stream",
     "text": [
      "Kinetic energy at injection: 0.16000 GeV (beta=0.51975)\n"
     ]
    }
   ],
   "source": [
    "# check kinetic energy\n",
    "e_kin_inj_ev = xt.PROTON_MASS_EV * (line.particle_ref.gamma0[0] - 1)\n",
    "beta0_inj = line.particle_ref.beta0[0]\n",
    "\n",
    "print(f'Kinetic energy at injection: {1e-9 * e_kin_inj_ev:.5f} GeV (beta={beta0_inj:.5f})')"
   ]
  },
  {
   "cell_type": "markdown",
   "id": "fc3a170e",
   "metadata": {},
   "source": [
    "### Enable chicane and chicane correction"
   ]
  },
  {
   "cell_type": "code",
   "execution_count": 5,
   "id": "dce9ad2f",
   "metadata": {},
   "outputs": [],
   "source": [
    "line.vars['on_chicane_k0'] = 1\n",
    "line.vars['on_chicane_k2'] = 1\n",
    "line.vars['on_chicane_beta_corr'] = 1\n",
    "line.vars['on_chicane_tune_corr'] = 1"
   ]
  },
  {
   "cell_type": "markdown",
   "id": "a4d36726",
   "metadata": {},
   "source": [
    "### Install monitor at foil"
   ]
  },
  {
   "cell_type": "code",
   "execution_count": 6,
   "id": "b0302bd2",
   "metadata": {},
   "outputs": [
    {
     "name": "stdout",
     "output_type": "stream",
     "text": [
      "Found suitable prebuilt kernel `default_only_xtrack`.\n"
     ]
    },
    {
     "data": {
      "text/plain": [
       "<xtrack.tracker.Tracker at 0x12bfbfbe0>"
      ]
     },
     "execution_count": 6,
     "metadata": {},
     "output_type": "execute_result"
    }
   ],
   "source": [
    "num_turns = 10000\n",
    "\n",
    "monitor = xt.ParticlesMonitor(start_at_turn=0, stop_at_turn=num_turns, particle_id_range=(0,50))\n",
    "\n",
    "line.discard_tracker()\n",
    "line.insert_element(index='bi1.tstr1l1', element=monitor, name='monitor_at_foil')\n",
    "line.build_tracker()"
   ]
  },
  {
   "cell_type": "markdown",
   "id": "d0f3c885",
   "metadata": {},
   "source": [
    "### Generate some test particles"
   ]
  },
  {
   "cell_type": "code",
   "execution_count": 7,
   "id": "3d0bc7ad",
   "metadata": {},
   "outputs": [],
   "source": [
    "line.vars['t_turn_s'] = 0.\n",
    "p = line.build_particles(zeta=np.linspace(-45, 45, 50))"
   ]
  },
  {
   "cell_type": "markdown",
   "id": "5b644cd1",
   "metadata": {},
   "source": [
    "### Enable time-dependent variables (update `t_turn_s` automatically during tracking)"
   ]
  },
  {
   "cell_type": "code",
   "execution_count": 8,
   "id": "1e653dfb",
   "metadata": {},
   "outputs": [],
   "source": [
    "line.enable_time_dependent_vars = True\n",
    "# line.dt_update_time_dependent_vars = 3e-6\n",
    "line.vars.cache_active = True\n",
    "line.vars['t_turn_s'] = 0."
   ]
  },
  {
   "cell_type": "code",
   "execution_count": null,
   "id": "f2ae986b",
   "metadata": {},
   "outputs": [
    {
     "name": "stdout",
     "output_type": "stream",
     "text": [
      "Tracking...\n"
     ]
    },
    {
     "name": "stderr",
     "output_type": "stream",
     "text": [
      "Tracking:  51%|▌| 5100/10000 [00:23<00:22, 21"
     ]
    }
   ],
   "source": [
    "print('Tracking...')\n",
    "line.track(p, num_turns=num_turns, time=True, with_progress=True)\n",
    "print(f'Done in {line.time_last_track:.4} s')"
   ]
  },
  {
   "cell_type": "code",
   "execution_count": null,
   "id": "3ec7557f",
   "metadata": {
    "scrolled": false
   },
   "outputs": [],
   "source": [
    "import matplotlib.pyplot as plt\n",
    "plt.close('all')\n",
    "plt.figure(1)\n",
    "sp1 = plt.subplot(2,1,1)\n",
    "plt.plot(monitor.x.T, alpha=0.5)\n",
    "plt.plot(np.mean(monitor.x, axis=0), color='k')\n",
    "\n",
    "plt.ylabel('x [m]')\n",
    "plt.subplot(2,1,2, sharex=sp1)\n",
    "plt.plot(1e-9 * xt.PROTON_MASS_EV * (monitor.gamma0.T - 1), alpha=0.5)\n",
    "plt.ylabel(r'$E_{kin}$ [GeV]')\n",
    "plt.xlabel('Turn')\n",
    "plt.show()"
   ]
  },
  {
   "cell_type": "code",
   "execution_count": null,
   "id": "88916f8e",
   "metadata": {},
   "outputs": [],
   "source": [
    "plt.figure(2)\n",
    "_ = plt.plot(monitor.zeta.T, monitor.delta.T * 1e3, alpha=0.5)\n",
    "plt.xlabel('zeta [m]')\n",
    "plt.ylabel(r'$\\delta$ [$10^{-3}$]')\n"
   ]
  },
  {
   "cell_type": "markdown",
   "id": "cae49452",
   "metadata": {},
   "source": [
    "### Check that revolution frequency is changing"
   ]
  },
  {
   "cell_type": "code",
   "execution_count": null,
   "id": "81ccdc7c",
   "metadata": {},
   "outputs": [],
   "source": [
    "from scipy.constants import c as clight\n",
    "\n",
    "i_turn_test = np.arange(num_turns)\n",
    "t_turn = line.energy_program.get_t_s_at_turn(i_turn_test)\n",
    "t_turn_constant_energy = i_turn_test * line.get_length()/clight/beta0_inj\n",
    "\n",
    "plt.figure(3)\n",
    "plt.plot(i_turn_test, 1e6 * (t_turn - t_turn_constant_energy))\n",
    "plt.plot(num_turns-1, 1e6 * (line.vv['t_turn_s'] - t_turn_constant_energy[-1]), 'o')\n",
    "\n",
    "plt.ylabel(r't - L / ($\\beta_{inj} c$) [$\\mu$s]')\n",
    "plt.xlabel('Turn')"
   ]
  },
  {
   "cell_type": "code",
   "execution_count": null,
   "id": "79766dda",
   "metadata": {},
   "outputs": [],
   "source": [
    "# Multiturn injection"
   ]
  },
  {
   "cell_type": "markdown",
   "id": "87b7c04e",
   "metadata": {},
   "source": [
    "### Load particles for multiturn injection"
   ]
  },
  {
   "cell_type": "code",
   "execution_count": null,
   "id": "1ad8ee04",
   "metadata": {},
   "outputs": [],
   "source": [
    "fname = './inj_distrib.dat'\n",
    "df = pd.read_table(fname, skiprows=3,\n",
    "    names=\"x x' y y' z z' Phase Time Energy Loss\".split())\n",
    "\n",
    "kin_energy_ev = df.Energy.values * 1e6\n",
    "tot_energy_ev = kin_energy_ev + xt.PROTON_MASS_EV\n",
    "p0c = line.particle_ref.p0c[0]\n",
    "tot_energy0_ev = line.particle_ref.energy0[0]\n",
    "\n",
    "ptau = (tot_energy_ev - tot_energy0_ev) / p0c\n",
    "\n",
    "# Build a particles object\n",
    "part_for_injection = xt.Particles(q0=1, mass0=xt.PROTON_MASS_EV, p0c=line.particle_ref.p0c[0],\n",
    "                                  ptau=ptau)\n",
    "\n",
    "part_for_injection.x = df.x.values * 1e-3\n",
    "part_for_injection.y = df.y.values * 1e-3\n",
    "part_for_injection.zeta = df.z.values * 1e-3\n",
    "part_for_injection.px = df[\"x'\"].values  * 1e-3 * (1 + part_for_injection.delta)\n",
    "part_for_injection.py = df[\"y'\"].values  * 1e-3 * (1 + part_for_injection.delta)\n",
    "part_for_injection.weight = 1e10\n"
   ]
  },
  {
   "cell_type": "markdown",
   "id": "78f96286",
   "metadata": {},
   "source": [
    "### Build and insert multi-turn injection element"
   ]
  },
  {
   "cell_type": "code",
   "execution_count": null,
   "id": "50d36a48",
   "metadata": {},
   "outputs": [],
   "source": [
    "p_injection = xt.ParticlesInjectionSample(particles_to_inject=part_for_injection,\n",
    "                                        line=line,\n",
    "                                        element_name='injection',\n",
    "                                        num_particles_to_inject=7)\n",
    "line.discard_tracker()\n",
    "line.insert_element(index='bi1.tstr1l1', element=p_injection, name='injection')\n",
    "line.build_tracker()"
   ]
  },
  {
   "cell_type": "markdown",
   "id": "03fb4ae4",
   "metadata": {},
   "source": [
    "### Generate particle object with unallocated space"
   ]
  },
  {
   "cell_type": "code",
   "execution_count": null,
   "id": "0bdee169",
   "metadata": {},
   "outputs": [],
   "source": [
    "p = line.build_particles(_capacity=100, x=0)\n",
    "p.state[0] = -500 # kill the particle added by default"
   ]
  },
  {
   "cell_type": "code",
   "execution_count": null,
   "id": "aada5040",
   "metadata": {},
   "outputs": [],
   "source": [
    "line.t_turn_s = 0 # Reset time!\n",
    "intensity = []\n",
    "line.enable_time_dependent_vars = True\n",
    "for iturn in range(8):\n",
    "    intensity.append(p.weight[p.state>0].sum())\n",
    "    line.track(p, num_turns=1)"
   ]
  },
  {
   "cell_type": "code",
   "execution_count": null,
   "id": "5ca31e7a",
   "metadata": {},
   "outputs": [],
   "source": [
    "plt.figure(4)\n",
    "plt.plot(intensity, '.-')\n",
    "plt.ylabel('Intensity [p+]')\n",
    "plt.xlabel('Turn')"
   ]
  },
  {
   "cell_type": "markdown",
   "id": "fc04fd98",
   "metadata": {},
   "source": [
    "-------"
   ]
  },
  {
   "cell_type": "code",
   "execution_count": null,
   "id": "7e608dd7",
   "metadata": {},
   "outputs": [],
   "source": []
  },
  {
   "cell_type": "code",
   "execution_count": null,
   "id": "d227d6d8",
   "metadata": {},
   "outputs": [],
   "source": []
  }
 ],
 "metadata": {
  "kernelspec": {
   "display_name": "Python 3 (ipykernel)",
   "language": "python",
   "name": "python3"
  },
  "language_info": {
   "codemirror_mode": {
    "name": "ipython",
    "version": 3
   },
   "file_extension": ".py",
   "mimetype": "text/x-python",
   "name": "python",
   "nbconvert_exporter": "python",
   "pygments_lexer": "ipython3",
   "version": "3.10.9"
  }
 },
 "nbformat": 4,
 "nbformat_minor": 5
}
