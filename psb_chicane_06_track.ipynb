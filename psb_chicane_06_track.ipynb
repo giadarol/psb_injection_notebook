{
 "cells": [
  {
   "cell_type": "markdown",
   "id": "c6ccdbf2",
   "metadata": {},
   "source": [
    "# PSB injection bump in Xsuite - track!"
   ]
  },
  {
   "cell_type": "code",
   "execution_count": 1,
   "id": "b81d0377",
   "metadata": {},
   "outputs": [],
   "source": [
    "%matplotlib notebook"
   ]
  },
  {
   "cell_type": "code",
   "execution_count": 2,
   "id": "40616266",
   "metadata": {},
   "outputs": [
    {
     "name": "stderr",
     "output_type": "stream",
     "text": [
      "/Users/giadarol/xsuite_packages/xtrack/xtrack/progress_indicator.py:90: TqdmExperimentalWarning: Using `tqdm.autonotebook.tqdm` in notebook mode. Use `tqdm.tqdm` instead to force console mode (e.g. in jupyter console)\n",
      "  from tqdm.autonotebook import tqdm\n"
     ]
    }
   ],
   "source": [
    "# Import modules\n",
    "import matplotlib.pyplot as plt\n",
    "import numpy as np\n",
    "import pandas as pd\n",
    "\n",
    "import xtrack as xt\n",
    "import xpart as xp\n",
    "import xdeps as xd\n",
    "\n",
    "from cpymad.madx import Madx"
   ]
  },
  {
   "cell_type": "markdown",
   "id": "51a56f9f",
   "metadata": {},
   "source": [
    "###  Load line from previous notebook"
   ]
  },
  {
   "cell_type": "code",
   "execution_count": 3,
   "id": "0a303702",
   "metadata": {},
   "outputs": [
    {
     "data": {
      "application/vnd.jupyter.widget-view+json": {
       "model_id": "bc12261fca2e4cf29ee70ba00ca0f103",
       "version_major": 2,
       "version_minor": 0
      },
      "text/plain": [
       "Loading line from dict:   0%|          | 0/2396 [00:00<?, ?it/s]"
      ]
     },
     "metadata": {},
     "output_type": "display_data"
    },
    {
     "name": "stdout",
     "output_type": "stream",
     "text": [
      "Done loading line from dict.           \n",
      "Found suitable prebuilt kernel `default_only_xtrack`.\n",
      "Found suitable prebuilt kernel `only_xtrack_frozen_energy`.\n"
     ]
    }
   ],
   "source": [
    "# Reload\n",
    "line = xt.Line.from_json('psb_05_thin.json')\n",
    "line.build_tracker()\n",
    "tw = line.twiss()\n",
    "\n",
    "line.vars['t_turn_s'] = 0 # avoid leftovers from previous scripts"
   ]
  },
  {
   "cell_type": "code",
   "execution_count": 4,
   "id": "f8b87ce8",
   "metadata": {},
   "outputs": [],
   "source": [
    "line.vars['volt_mv_h2'] = 0"
   ]
  },
  {
   "cell_type": "markdown",
   "id": "fc3a170e",
   "metadata": {},
   "source": [
    "### Enable chicane and chicane correction"
   ]
  },
  {
   "cell_type": "code",
   "execution_count": 5,
   "id": "dce9ad2f",
   "metadata": {},
   "outputs": [],
   "source": [
    "line.vars['on_chicane_k0'] = 1\n",
    "line.vars['on_chicane_k2'] = 1\n",
    "line.vars['on_chicane_beta_corr'] = 1\n",
    "line.vars['on_chicane_tune_corr'] = 1"
   ]
  },
  {
   "cell_type": "markdown",
   "id": "a4d36726",
   "metadata": {},
   "source": [
    "### Install monitor at foil"
   ]
  },
  {
   "cell_type": "code",
   "execution_count": 6,
   "id": "b0302bd2",
   "metadata": {},
   "outputs": [
    {
     "name": "stdout",
     "output_type": "stream",
     "text": [
      "Found suitable prebuilt kernel `default_only_xtrack`.\n"
     ]
    },
    {
     "data": {
      "text/plain": [
       "<xtrack.tracker.Tracker at 0x16e3cfa60>"
      ]
     },
     "execution_count": 6,
     "metadata": {},
     "output_type": "execute_result"
    }
   ],
   "source": [
    "monitor = xt.ParticlesMonitor(start_at_turn=0, stop_at_turn=6000, particle_id_range=(0,50))\n",
    "\n",
    "line.discard_tracker()\n",
    "line.insert_element(index='bi1.tstr1l1', element=monitor, name='monitor_at_foil')\n",
    "line.build_tracker()"
   ]
  },
  {
   "cell_type": "markdown",
   "id": "d0f3c885",
   "metadata": {},
   "source": [
    "### Generate some test particles"
   ]
  },
  {
   "cell_type": "code",
   "execution_count": 7,
   "id": "3d0bc7ad",
   "metadata": {},
   "outputs": [],
   "source": [
    "# p = xp.generate_matched_gaussian_bunch(num_particles=50, sigma_z=1e-3, nemitt_x=1e-8, nemitt_y=1.5e-8, line=line)\n",
    "\n",
    "# # use the first particle as probe\n",
    "# p.x[0] = 0\n",
    "# p.px[0] = 0\n",
    "# p.y[0] = 0\n",
    "# p.py[0] = 0\n",
    "# p.zeta[0] = 0\n",
    "# p.delta[0] = 0\n",
    "\n",
    "p = line.build_particles(zeta=np.linspace(0, 15, 50))"
   ]
  },
  {
   "cell_type": "code",
   "execution_count": 8,
   "id": "ca3bc730",
   "metadata": {},
   "outputs": [
    {
     "data": {
      "text/plain": [
       "LinkedArrayCpu([0., 0., 0., 0., 0., 0., 0., 0., 0., 0., 0., 0., 0., 0.,\n",
       "                0., 0., 0., 0., 0., 0., 0., 0., 0., 0., 0., 0., 0., 0.,\n",
       "                0., 0., 0., 0., 0., 0., 0., 0., 0., 0., 0., 0., 0., 0.,\n",
       "                0., 0., 0., 0., 0., 0., 0., 0.])"
      ]
     },
     "execution_count": 8,
     "metadata": {},
     "output_type": "execute_result"
    }
   ],
   "source": [
    "p.delta"
   ]
  },
  {
   "cell_type": "code",
   "execution_count": 9,
   "id": "018f652d",
   "metadata": {},
   "outputs": [],
   "source": [
    "line.vv['t_turn_s'] = 0"
   ]
  },
  {
   "cell_type": "code",
   "execution_count": 10,
   "id": "255e5fa0",
   "metadata": {},
   "outputs": [],
   "source": [
    "line.track(p)"
   ]
  },
  {
   "cell_type": "code",
   "execution_count": 11,
   "id": "40d908a3",
   "metadata": {},
   "outputs": [
    {
     "data": {
      "text/plain": [
       "LinkedArrayCpu([ 1.01429598e-09, -1.20075412e-07, -2.41147126e-07,\n",
       "                -3.62182695e-07, -4.83163971e-07, -6.04072815e-07,\n",
       "                -7.24891097e-07, -8.45600704e-07, -9.66183536e-07,\n",
       "                -1.08662151e-06, -1.20689658e-06, -1.32699070e-06,\n",
       "                -1.44688587e-06, -1.56656411e-06, -1.68600748e-06,\n",
       "                -1.80519806e-06, -1.92411800e-06, -2.04274945e-06,\n",
       "                -2.16107463e-06, -2.27907580e-06, -2.39673527e-06,\n",
       "                -2.51403539e-06, -2.63095859e-06, -2.74748731e-06,\n",
       "                -2.86360411e-06, -2.97929156e-06, -3.09453232e-06,\n",
       "                -3.20930910e-06, -3.32360471e-06, -3.43740201e-06,\n",
       "                -3.55068392e-06, -3.66343348e-06, -3.77563376e-06,\n",
       "                -3.88726796e-06, -3.99831932e-06, -4.10877121e-06,\n",
       "                -4.21860705e-06, -4.32781039e-06, -4.43636484e-06,\n",
       "                -4.54425414e-06, -4.65146210e-06, -4.75797265e-06,\n",
       "                -4.86376982e-06, -4.96883774e-06, -5.07316068e-06,\n",
       "                -5.17672297e-06, -5.27950910e-06, -5.38150365e-06,\n",
       "                -5.48269134e-06, -5.58305698e-06])"
      ]
     },
     "execution_count": 11,
     "metadata": {},
     "output_type": "execute_result"
    }
   ],
   "source": [
    "p.delta"
   ]
  },
  {
   "cell_type": "code",
   "execution_count": 12,
   "id": "12cfd723",
   "metadata": {},
   "outputs": [
    {
     "data": {
      "text/plain": [
       "LinkedArrayCpu([0., 0., 0., 0., 0., 0., 0., 0., 0., 0., 0., 0., 0., 0.,\n",
       "                0., 0., 0., 0., 0., 0., 0., 0., 0., 0., 0., 0., 0., 0.,\n",
       "                0., 0., 0., 0., 0., 0., 0., 0., 0., 0., 0., 0., 0., 0.,\n",
       "                0., 0., 0., 0., 0., 0., 0., 0.])"
      ]
     },
     "execution_count": 12,
     "metadata": {},
     "output_type": "execute_result"
    }
   ],
   "source": [
    "monitor.delta[:, 0]"
   ]
  },
  {
   "cell_type": "markdown",
   "id": "5b644cd1",
   "metadata": {},
   "source": [
    "### Enable time-dependent variables (update `t_turn_s` automatically during tracking)"
   ]
  },
  {
   "cell_type": "code",
   "execution_count": null,
   "id": "1e653dfb",
   "metadata": {},
   "outputs": [],
   "source": [
    "line.enable_time_dependent_vars = True\n",
    "# line.dt_update_time_dependent_vars = 3e-6\n",
    "line.vars.cache_active = True\n",
    "line.vars['t_turn_s'] = 0."
   ]
  },
  {
   "cell_type": "code",
   "execution_count": null,
   "id": "6263a34c",
   "metadata": {},
   "outputs": [],
   "source": [
    "line.track(p)"
   ]
  },
  {
   "cell_type": "code",
   "execution_count": null,
   "id": "f9dadaf3",
   "metadata": {},
   "outputs": [],
   "source": [
    "p.delta"
   ]
  },
  {
   "cell_type": "code",
   "execution_count": null,
   "id": "f2ae986b",
   "metadata": {},
   "outputs": [],
   "source": [
    "print('Tracking...')\n",
    "line.track(p, num_turns=6000, time=True)\n",
    "print(f'Done in {line.time_last_track:.4} s')"
   ]
  },
  {
   "cell_type": "code",
   "execution_count": null,
   "id": "3ec7557f",
   "metadata": {
    "scrolled": false
   },
   "outputs": [],
   "source": [
    "import matplotlib.pyplot as plt\n",
    "plt.close('all')\n",
    "plt.figure(1)\n",
    "plt.plot(monitor.x.T, alpha=0.5)\n",
    "plt.plot(np.mean(monitor.x, axis=0), color='k')\n",
    "plt.xlabel('Turn')\n",
    "plt.ylabel('x [m]')\n",
    "plt.show()"
   ]
  },
  {
   "cell_type": "code",
   "execution_count": null,
   "id": "5f0f9928",
   "metadata": {},
   "outputs": [],
   "source": [
    "plt.figure(2)\n",
    "plt.plot(monitor.delta.T, alpha=0.5)\n",
    "plt.xlabel('Turn')\n",
    "plt.ylabel('delta')\n",
    "plt.show()"
   ]
  },
  {
   "cell_type": "code",
   "execution_count": null,
   "id": "b35e2f06",
   "metadata": {},
   "outputs": [],
   "source": [
    "np.mean(monitor.x, axis=1)"
   ]
  },
  {
   "cell_type": "code",
   "execution_count": null,
   "id": "43fd2ecb",
   "metadata": {},
   "outputs": [],
   "source": [
    "line.enable_time_dependent_vars = False"
   ]
  },
  {
   "cell_type": "code",
   "execution_count": null,
   "id": "6370723e",
   "metadata": {},
   "outputs": [],
   "source": [
    "tw = line.twiss(method='6d')"
   ]
  },
  {
   "cell_type": "code",
   "execution_count": null,
   "id": "2e577345",
   "metadata": {},
   "outputs": [],
   "source": [
    "plt.figure(100)\n",
    "plt.plot(monitor.gamma0.T)"
   ]
  },
  {
   "cell_type": "markdown",
   "id": "fc04fd98",
   "metadata": {},
   "source": [
    "-------"
   ]
  }
 ],
 "metadata": {
  "kernelspec": {
   "display_name": "Python 3 (ipykernel)",
   "language": "python",
   "name": "python3"
  },
  "language_info": {
   "codemirror_mode": {
    "name": "ipython",
    "version": 3
   },
   "file_extension": ".py",
   "mimetype": "text/x-python",
   "name": "python",
   "nbconvert_exporter": "python",
   "pygments_lexer": "ipython3",
   "version": "3.10.9"
  }
 },
 "nbformat": 4,
 "nbformat_minor": 5
}
